{
 "cells": [
  {
   "cell_type": "markdown",
   "id": "5148fa0e",
   "metadata": {},
   "source": [
    "# PyTorch Tutorial\n",
    "\n",
    "Based on: https://pytorch.org/tutorials/beginner/basics/quickstart_tutorial.html\n",
    "\n",
    "First, we need to install pytroch. For macOS with pip use in your terminal, after activating a virtual environment (and selecting the correct kernel in your jupyter notebook): \n",
    "```\n",
    "pip3 install torch torchvision torchaudio \n",
    "pip3 install torchviz \n",
    "pip3 install torchsummary \n",
    "```\n",
    "The latter two are just used for visualization of the neural network's architecture. Then we can go forward with the imports."
   ]
  },
  {
   "cell_type": "code",
   "execution_count": 2,
   "metadata": {},
   "outputs": [],
   "source": [
    "import torch\n",
    "from torch import nn \n",
    "from torch.utils.data import DataLoader \n",
    "from torchvision import datasets \n",
    "from torchvision.transforms import ToTensor"
   ]
  },
  {
   "cell_type": "markdown",
   "id": "e343bcb8",
   "metadata": {},
   "source": [
    "Let us fetch some datasets for training and testing using a dataset from torchvision. "
   ]
  },
  {
   "cell_type": "code",
   "execution_count": 3,
   "id": "b85e0f1e",
   "metadata": {},
   "outputs": [
    {
     "name": "stdout",
     "output_type": "stream",
     "text": [
      "Downloading http://fashion-mnist.s3-website.eu-central-1.amazonaws.com/train-images-idx3-ubyte.gz\n"
     ]
    },
    {
     "name": "stderr",
     "output_type": "stream",
     "text": [
      "1.9%"
     ]
    },
    {
     "name": "stdout",
     "output_type": "stream",
     "text": [
      "Downloading http://fashion-mnist.s3-website.eu-central-1.amazonaws.com/train-images-idx3-ubyte.gz to data/FashionMNIST/raw/train-images-idx3-ubyte.gz\n"
     ]
    },
    {
     "name": "stderr",
     "output_type": "stream",
     "text": [
      "100.0%\n"
     ]
    },
    {
     "name": "stdout",
     "output_type": "stream",
     "text": [
      "Extracting data/FashionMNIST/raw/train-images-idx3-ubyte.gz to data/FashionMNIST/raw\n"
     ]
    },
    {
     "name": "stderr",
     "output_type": "stream",
     "text": [
      "100.0%"
     ]
    },
    {
     "name": "stdout",
     "output_type": "stream",
     "text": [
      "\n",
      "Downloading http://fashion-mnist.s3-website.eu-central-1.amazonaws.com/train-labels-idx1-ubyte.gz\n",
      "Downloading http://fashion-mnist.s3-website.eu-central-1.amazonaws.com/train-labels-idx1-ubyte.gz to data/FashionMNIST/raw/train-labels-idx1-ubyte.gz\n",
      "Extracting data/FashionMNIST/raw/train-labels-idx1-ubyte.gz to data/FashionMNIST/raw\n",
      "\n",
      "Downloading http://fashion-mnist.s3-website.eu-central-1.amazonaws.com/t10k-images-idx3-ubyte.gz\n"
     ]
    },
    {
     "name": "stderr",
     "output_type": "stream",
     "text": [
      "\n",
      "13.3%"
     ]
    },
    {
     "name": "stdout",
     "output_type": "stream",
     "text": [
      "Downloading http://fashion-mnist.s3-website.eu-central-1.amazonaws.com/t10k-images-idx3-ubyte.gz to data/FashionMNIST/raw/t10k-images-idx3-ubyte.gz\n"
     ]
    },
    {
     "name": "stderr",
     "output_type": "stream",
     "text": [
      "100.0%\n",
      "100.0%\n"
     ]
    },
    {
     "name": "stdout",
     "output_type": "stream",
     "text": [
      "Extracting data/FashionMNIST/raw/t10k-images-idx3-ubyte.gz to data/FashionMNIST/raw\n",
      "\n",
      "Downloading http://fashion-mnist.s3-website.eu-central-1.amazonaws.com/t10k-labels-idx1-ubyte.gz\n",
      "Downloading http://fashion-mnist.s3-website.eu-central-1.amazonaws.com/t10k-labels-idx1-ubyte.gz to data/FashionMNIST/raw/t10k-labels-idx1-ubyte.gz\n",
      "Extracting data/FashionMNIST/raw/t10k-labels-idx1-ubyte.gz to data/FashionMNIST/raw\n",
      "\n"
     ]
    }
   ],
   "source": [
    "# get training data \n",
    "training_data = datasets.FashionMNIST(\n",
    "    root=\"data\",\n",
    "    train=True, \n",
    "    download=True,\n",
    "    transform=ToTensor(),\n",
    ")\n",
    "\n",
    "# get test data \n",
    "test_data = datasets.FashionMNIST(\n",
    "    root=\"data\",\n",
    "    train=False,\n",
    "    download=True,\n",
    "    transform=ToTensor(),\n",
    ")"
   ]
  },
  {
   "cell_type": "code",
   "execution_count": 4,
   "id": "60291cce",
   "metadata": {},
   "outputs": [
    {
     "name": "stdout",
     "output_type": "stream",
     "text": [
      "Shape of X [N, C, H , W]: torch.Size([64, 1, 28, 28])\n",
      "Shape/type of y: torch.Size([64]) torch.int64\n"
     ]
    }
   ],
   "source": [
    "batch_size = 64 # number of training examples utilised in one iteration in which we tune the gradient of the loss w.r.t. the weights\n",
    "\n",
    "# create dataloader to wrap iterator around datasets \n",
    "\n",
    "train_dataloader = DataLoader(training_data, batch_size = batch_size)\n",
    "test_dataloader = DataLoader(test_data, batch_size = batch_size)\n",
    "\n",
    "for X, y in test_dataloader:\n",
    "    print(f\"Shape of X [N, C, H , W]: {X.shape}\") # batch size, color channels (1 grey, 3 colored), height, width\n",
    "    print(f\"Shape/type of y: {y.shape} {y.dtype}\")\n",
    "    break"
   ]
  },
  {
   "cell_type": "markdown",
   "id": "597713de",
   "metadata": {},
   "source": [
    "# Neural Network Model\n",
    "\n",
    "- inherit from PyTorch's nn.Module\n"
   ]
  },
  {
   "cell_type": "markdown",
   "id": "da704517",
   "metadata": {},
   "source": [
    "First select a device for training. On macOS, I expect it will be cpu."
   ]
  },
  {
   "cell_type": "code",
   "execution_count": 5,
   "id": "c67737a3",
   "metadata": {},
   "outputs": [
    {
     "name": "stdout",
     "output_type": "stream",
     "text": [
      "Using cpu device\n"
     ]
    }
   ],
   "source": [
    "device = (\n",
    "    \"cuda\"\n",
    "    if torch.cuda.is_available()\n",
    "    else \"mps\"\n",
    "    if torch.backends.mps.is_available()\n",
    "    else \"cpu\"\n",
    ")\n",
    "print(f\"Using {device} device\")"
   ]
  },
  {
   "cell_type": "code",
   "execution_count": 8,
   "id": "510a6d62",
   "metadata": {},
   "outputs": [
    {
     "name": "stdout",
     "output_type": "stream",
     "text": [
      "NeuralNetwork(\n",
      "  (flatten): Flatten(start_dim=1, end_dim=-1)\n",
      "  (linear_relu_stack): Sequential(\n",
      "    (0): Linear(in_features=784, out_features=512, bias=True)\n",
      "    (1): ReLU()\n",
      "    (2): Linear(in_features=512, out_features=512, bias=True)\n",
      "    (3): ReLU()\n",
      "    (4): Linear(in_features=512, out_features=10, bias=True)\n",
      "  )\n",
      ")\n"
     ]
    }
   ],
   "source": [
    "class NeuralNetwork(nn.Module):\n",
    "\n",
    "    def __init__(self):\n",
    "        super().__init__()\n",
    "        self.flatten = nn.Flatten() # flatten input data into a 1D tensor\n",
    "        self.linear_relu_stack = nn.Sequential(\n",
    "            nn.Linear(28*28, 512), # fully connected layer\n",
    "            nn.ReLU(), # rectified linear unit as activiation function (f(x)=max(0,x))\n",
    "            nn.Linear(512,512),\n",
    "            nn.ReLU(),\n",
    "            nn.Linear(512,10),\n",
    "        )\n",
    "\n",
    "    def forward(self, x):\n",
    "        x = self.flatten(x)\n",
    "        logits = self.linear_relu_stack(x)\n",
    "        return logits # logistic units\n",
    "\n",
    "model = NeuralNetwork().to(device)\n",
    "print(model)\n"
   ]
  },
  {
   "cell_type": "markdown",
   "id": "9f455640",
   "metadata": {},
   "source": []
  },
  {
   "cell_type": "markdown",
   "id": "a4675e51",
   "metadata": {},
   "source": [
    "Display the Neural Network's data flow."
   ]
  },
  {
   "cell_type": "code",
   "execution_count": 11,
   "id": "a266c66f",
   "metadata": {},
   "outputs": [
    {
     "data": {
      "image/png": "[encoded data removed]",
      "text/plain": [
       "<IPython.core.display.Image object>"
      ]
     },
     "execution_count": 11,
     "metadata": {},
     "output_type": "execute_result"
    }
   ],
   "source": [
    "from torchviz import make_dot\n",
    "from IPython.display import Image\n",
    "\n",
    "# Create a random input tensor for visualization (batch_size=1, channels=1, height=28, width=28)\n",
    "sample_input = torch.randn(1, 1, 28, 28)\n",
    "\n",
    "# Forward pass to obtain the output\n",
    "output = model(sample_input)\n",
    "\n",
    "# Generate a computational graph of your model\n",
    "dot = make_dot(output, params=dict(model.named_parameters()))\n",
    "\n",
    "# Save the graph as a PDF file\n",
    "dot.render(\"neural_network_graph\")\n",
    "# Save the graph as a PNG image\n",
    "dot.format = 'png'\n",
    "dot.render(\"neural_network_graph\")\n",
    "\n",
    "# Display the image in the notebook\n",
    "Image(\"neural_network_graph.png\")"
   ]
  },
  {
   "cell_type": "code",
   "execution_count": 37,
   "id": "a21cfeb8",
   "metadata": {},
   "outputs": [
    {
     "name": "stdout",
     "output_type": "stream",
     "text": [
      "----------------------------------------------------------------\n",
      "        Layer (type)               Output Shape         Param #\n",
      "================================================================\n",
      "           Flatten-1                  [-1, 784]               0\n",
      "            Linear-2                  [-1, 512]         401,920\n",
      "              ReLU-3                  [-1, 512]               0\n",
      "            Linear-4                  [-1, 512]         262,656\n",
      "              ReLU-5                  [-1, 512]               0\n",
      "            Linear-6                   [-1, 10]           5,130\n",
      "================================================================\n",
      "Total params: 669,706\n",
      "Trainable params: 669,706\n",
      "Non-trainable params: 0\n",
      "----------------------------------------------------------------\n",
      "Input size (MB): 0.00\n",
      "Forward/backward pass size (MB): 0.02\n",
      "Params size (MB): 2.55\n",
      "Estimated Total Size (MB): 2.58\n",
      "----------------------------------------------------------------\n"
     ]
    }
   ],
   "source": [
    "from torchsummary import summary\n",
    "# Display the architecture summary\n",
    "summary(model, input_size=(1, 28, 28))\n"
   ]
  },
  {
   "cell_type": "markdown",
   "id": "3e2c8ac3",
   "metadata": {},
   "source": [
    "Now let us train the model. Therefore, we need a loss function and an optimizer. "
   ]
  },
  {
   "cell_type": "code",
   "execution_count": 13,
   "id": "af9405d5",
   "metadata": {},
   "outputs": [],
   "source": [
    "loss_fn = nn.CrossEntropyLoss()\n",
    "optimizer = torch.optim.SGD(model.parameters(), lr=1e-3)"
   ]
  },
  {
   "cell_type": "code",
   "execution_count": 17,
   "id": "cd5ad1a3",
   "metadata": {},
   "outputs": [],
   "source": [
    "def train(dataloader, model, loss_fn, optimizer):\n",
    "    size = len(dataloader.dataset)\n",
    "    model.train()\n",
    "    for batch, (X, y) in enumerate(dataloader):\n",
    "        X, y = X.to(device), y.to(device)\n",
    "\n",
    "        pred = model(X)\n",
    "        loss = loss_fn(pred, y)\n",
    "\n",
    "        # backprop\n",
    "\n",
    "        loss.backward()\n",
    "        optimizer.step()\n",
    "        optimizer.zero_grad()\n",
    "\n",
    "        if batch % 100 == 0:\n",
    "            loss, current = loss.item(), (batch+1)*len(X)\n",
    "            print(f\"loss: {loss:>7f} [{current:>5d}/{size:>5d}]\") "
   ]
  },
  {
   "cell_type": "code",
   "execution_count": 18,
   "id": "355a51e4",
   "metadata": {},
   "outputs": [],
   "source": [
    "def test(dataloader, model, loss_fn):\n",
    "    size = len(dataloader.dataset)\n",
    "    num_batches = len(dataloader)\n",
    "    model.eval()\n",
    "    test_loss, correct = 0, 0\n",
    "    with torch.no_grad():\n",
    "        for X, y in dataloader:\n",
    "            X, y = X.to(device), y.to(device)\n",
    "            pred = model(X)\n",
    "            test_loss += loss_fn(pred, y).item()\n",
    "            correct += (pred.argmax(1) == y).type(torch.float).sum().item()\n",
    "    test_loss /= num_batches \n",
    "    correct /= size \n",
    "    print(f\"Test Error: \\n Accuracy: {(100*correct):>0.1f}%, Avg loss: {test_loss:>8f} \\n\")\n",
    "\n"
   ]
  },
  {
   "cell_type": "markdown",
   "id": "9ce4b21f",
   "metadata": {},
   "source": [
    "We train the model in epochs, wich are number of iterations over the dataset (in batches). For increasing number of epochs, we expect the loss to decrease and the accuracy to increase."
   ]
  },
  {
   "cell_type": "code",
   "execution_count": 19,
   "id": "cc904165",
   "metadata": {},
   "outputs": [
    {
     "name": "stdout",
     "output_type": "stream",
     "text": [
      "Epoch 1\n",
      "----------------\n",
      "loss: 2.307618 [   64/60000]\n",
      "loss: 2.295429 [ 6464/60000]\n",
      "loss: 2.278785 [12864/60000]\n",
      "loss: 2.268699 [19264/60000]\n",
      "loss: 2.246677 [25664/60000]\n",
      "loss: 2.222615 [32064/60000]\n",
      "loss: 2.226878 [38464/60000]\n",
      "loss: 2.198995 [44864/60000]\n",
      "loss: 2.200258 [51264/60000]\n",
      "loss: 2.160140 [57664/60000]\n",
      "Test Error: \n",
      " Accuracy: 49.8%, Avg loss: 2.158733 \n",
      "\n",
      "Epoch 2\n",
      "----------------\n",
      "loss: 2.171214 [   64/60000]\n",
      "loss: 2.159197 [ 6464/60000]\n",
      "loss: 2.108603 [12864/60000]\n",
      "loss: 2.124275 [19264/60000]\n",
      "loss: 2.062217 [25664/60000]\n",
      "loss: 2.010683 [32064/60000]\n",
      "loss: 2.037487 [38464/60000]\n",
      "loss: 1.963622 [44864/60000]\n",
      "loss: 1.978323 [51264/60000]\n",
      "loss: 1.899143 [57664/60000]\n",
      "Test Error: \n",
      " Accuracy: 53.0%, Avg loss: 1.900214 \n",
      "\n",
      "Epoch 3\n",
      "----------------\n",
      "loss: 1.932613 [   64/60000]\n",
      "loss: 1.900945 [ 6464/60000]\n",
      "loss: 1.796575 [12864/60000]\n",
      "loss: 1.835718 [19264/60000]\n",
      "loss: 1.706871 [25664/60000]\n",
      "loss: 1.671150 [32064/60000]\n",
      "loss: 1.693835 [38464/60000]\n",
      "loss: 1.601914 [44864/60000]\n",
      "loss: 1.631959 [51264/60000]\n",
      "loss: 1.520320 [57664/60000]\n",
      "Test Error: \n",
      " Accuracy: 58.8%, Avg loss: 1.542027 \n",
      "\n",
      "Epoch 4\n",
      "----------------\n",
      "loss: 1.608695 [   64/60000]\n",
      "loss: 1.571478 [ 6464/60000]\n",
      "loss: 1.434100 [12864/60000]\n",
      "loss: 1.494425 [19264/60000]\n",
      "loss: 1.364257 [25664/60000]\n",
      "loss: 1.373681 [32064/60000]\n",
      "loss: 1.380685 [38464/60000]\n",
      "loss: 1.316373 [44864/60000]\n",
      "loss: 1.351685 [51264/60000]\n",
      "loss: 1.244339 [57664/60000]\n",
      "Test Error: \n",
      " Accuracy: 61.9%, Avg loss: 1.276078 \n",
      "\n",
      "Epoch 5\n",
      "----------------\n",
      "loss: 1.357552 [   64/60000]\n",
      "loss: 1.333861 [ 6464/60000]\n",
      "loss: 1.177502 [12864/60000]\n",
      "loss: 1.268859 [19264/60000]\n",
      "loss: 1.138127 [25664/60000]\n",
      "loss: 1.173913 [32064/60000]\n",
      "loss: 1.186752 [38464/60000]\n",
      "loss: 1.135979 [44864/60000]\n",
      "loss: 1.175308 [51264/60000]\n",
      "loss: 1.081797 [57664/60000]\n",
      "Test Error: \n",
      " Accuracy: 63.7%, Avg loss: 1.108511 \n",
      "\n",
      "done!\n"
     ]
    }
   ],
   "source": [
    "epochs = 5 # number of iterations over dataset \n",
    "\n",
    "for t in range(epochs):\n",
    "    print(f\"Epoch {t+1}\\n----------------\")\n",
    "    train(train_dataloader, model, loss_fn, optimizer)\n",
    "    test(test_dataloader, model, loss_fn)\n",
    "print(\"done!\")\n"
   ]
  },
  {
   "cell_type": "code",
   "execution_count": 20,
   "id": "ba18a2d0",
   "metadata": {},
   "outputs": [
    {
     "name": "stdout",
     "output_type": "stream",
     "text": [
      "Saved PyTorch Model state to model.pth\n"
     ]
    }
   ],
   "source": [
    "# now save the model \n",
    "filename =  \"model.pth\"\n",
    "torch.save(model.state_dict(),filename)\n",
    "print(f\"Saved PyTorch Model state to {filename}\")"
   ]
  },
  {
   "cell_type": "code",
   "execution_count": 21,
   "id": "a7ee5d85",
   "metadata": {},
   "outputs": [
    {
     "data": {
      "text/plain": [
       "<All keys matched successfully>"
      ]
     },
     "execution_count": 21,
     "metadata": {},
     "output_type": "execute_result"
    }
   ],
   "source": [
    "# now reload model \n",
    "model = NeuralNetwork().to(device)\n",
    "model.load_state_dict(torch.load(filename))"
   ]
  },
  {
   "cell_type": "code",
   "execution_count": 33,
   "id": "902b1f0a",
   "metadata": {},
   "outputs": [
    {
     "name": "stdout",
     "output_type": "stream",
     "text": [
      "Predicted: \"Bag\", Actual: \"Bag\"\n"
     ]
    }
   ],
   "source": [
    "# now use the loaded model to make predictions\n",
    "import random\n",
    "\n",
    "classes = [\n",
    "    \"T-shirt/top\",\n",
    "    \"Trouser\",\n",
    "    \"Pullover\",\n",
    "    \"Dress\",\n",
    "    \"Coat\",\n",
    "    \"Sandal\",\n",
    "    \"Shirt\",\n",
    "    \"Sneaker\",\n",
    "    \"Bag\",\n",
    "    \"Ankle boot\",\n",
    "]\n",
    "\n",
    "model.eval()\n",
    "idx = random.choice(range(len(test_dataloader.dataset)))\n",
    "x,y = test_data[idx][0], test_data[idx][1]\n",
    "with torch.no_grad():\n",
    "    x = x.to(device)\n",
    "    pred = model(x)\n",
    "    predicted, actual = classes[pred[0].argmax(0)], classes[y]\n",
    "    print(f'Predicted: \"{predicted}\", Actual: \"{actual}\"')\n"
   ]
  },
  {
   "cell_type": "code",
   "execution_count": null,
   "id": "7ed409ac",
   "metadata": {},
   "outputs": [],
   "source": []
  },
  {
   "cell_type": "code",
   "execution_count": null,
   "id": "ee5d75cf",
   "metadata": {},
   "outputs": [],
   "source": []
  }
 ],
 "metadata": {
  "kernelspec": {
   "display_name": "venv",
   "language": "python",
   "name": "python3"
  },
  "language_info": {
   "codemirror_mode": {
    "name": "ipython",
    "version": 3
   },
   "file_extension": ".py",
   "mimetype": "text/x-python",
   "name": "python",
   "nbconvert_exporter": "python",
   "pygments_lexer": "ipython3",
   "version": "3.9.12"
  }
 },
 "nbformat": 4,
 "nbformat_minor": 5
}
