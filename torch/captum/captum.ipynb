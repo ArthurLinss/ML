{
 "cells": [
  {
   "cell_type": "markdown",
   "metadata": {},
   "source": [
    "# PyTorch and Captum\n",
    "\n",
    "- https://pytorch.org/tutorials/beginner/introyt/captumyt.html\n",
    "- https://captum.ai/\n",
    "\n",
    "Captum is a tool (library) for model interpretability for PyTorch. \n",
    "Captum has three attributions:\n",
    "- feature attribution \n",
    "- layer attribution \n",
    "- neuron attribution \n",
    "\n",
    "Setup of your virtual environment (venv): \n",
    "```\n",
    "pip install torch torchvision captum matplotlib==3.3.4 Flask-Compress\n",
    "```"
   ]
  },
  {
   "cell_type": "code",
   "execution_count": null,
   "metadata": {},
   "outputs": [],
   "source": []
  }
 ],
 "metadata": {
  "language_info": {
   "name": "python"
  }
 },
 "nbformat": 4,
 "nbformat_minor": 2
}
